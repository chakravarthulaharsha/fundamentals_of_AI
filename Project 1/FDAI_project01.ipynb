{
  "cells": [
    {
      "cell_type": "code",
      "source": [
        "import networkx as nx\n",
        "def Create_nodes():\n",
        "  import networkx as nx\n",
        "  seed=1000           # seed the graph for reproducibility, you should be doing this  \n",
        "  G= nx.gnp_random_graph (10, .3, seed=seed )       # here we create a random binomial graph with 10 nodes and an average (expected) connectivity of 10*.3= 3.\n",
        "  nx.is_connected(G)      # check whether which has at least one path between each pair of nodes.\n",
        "  import random\n",
        "  for (u, v) in G.edges():\n",
        "    eweights=G.edges[u,v]['weight'] = random.randint(1,20)    # assign random weights to edges\n",
        "  import matplotlib.pyplot as plt\n",
        "  links = [(u, v) for (u, v, d) in G.edges(data=True)]\n",
        "  pos = nx.nx_pydot.graphviz_layout(G) \n",
        "  nx.draw_networkx_nodes(G, pos, node_size=1200, node_color='lightblue', linewidths=0.25) # draw nodes\n",
        "  nx.draw_networkx_edges(G, pos, edgelist=links, width=4)                                 # draw edges\n",
        "  # node labels\n",
        "  nx.draw_networkx_labels(G, pos, font_size=20, font_family=\"sans-serif\")\n",
        "  # edge weight labels\n",
        "  edge_labels = nx.get_edge_attributes(G, \"weight\")\n",
        "  nx.draw_networkx_edge_labels(G, pos, edge_labels)\n",
        "  plt.title(\"Created Nodes and edges\")\n",
        "  plt.show()\n",
        "  return G,edge_labels"
      ],
      "metadata": {
        "id": "KaIZPtyUEW7S"
      },
      "execution_count": 1,
      "outputs": []
    },
    {
      "cell_type": "markdown",
      "source": [
        "Function to find p Random normal distribution"
      ],
      "metadata": {
        "id": "JiPjhaVT0-1H"
      }
    },
    {
      "cell_type": "code",
      "source": [
        "def p():\n",
        "  import numpy as np\n",
        "  return np.random.normal(0, 0.25)"
      ],
      "metadata": {
        "id": "uux1V-iBoDC7"
      },
      "execution_count": 2,
      "outputs": []
    },
    {
      "cell_type": "markdown",
      "source": [
        "Function to Update weights"
      ],
      "metadata": {
        "id": "dLqK9zmR1E5i"
      }
    },
    {
      "cell_type": "code",
      "source": [
        "def update_Weights(W,P,b):\n",
        "  for i in W:\n",
        "    W[i] = b * W[i] * P\n",
        "  return W"
      ],
      "metadata": {
        "id": "ZH-JTcwx3Nq2"
      },
      "execution_count": 3,
      "outputs": []
    },
    {
      "cell_type": "markdown",
      "source": [
        "Function to find the Overall Load Factor"
      ],
      "metadata": {
        "id": "gsurpdMh1WZS"
      }
    },
    {
      "cell_type": "code",
      "source": [
        "def dict_diff(W1, W2):\n",
        "  a=[]\n",
        "  for i in W1:\n",
        "    a.append(W2[i]-W1[i])\n",
        "  return a"
      ],
      "metadata": {
        "id": "It0V9HnDB1kV"
      },
      "execution_count": 4,
      "outputs": []
    },
    {
      "cell_type": "markdown",
      "source": [
        "Function to find the Find the nodes travelled through , Total time taken for the Journey"
      ],
      "metadata": {
        "id": "udXsPhKl1lnz"
      }
    },
    {
      "cell_type": "code",
      "source": [
        "def load_and_nodes(G,W,S,D,T):\n",
        "  base_level = {8:1.0 , 9:0.95, 10:0.9 , 11:0.9 , 12:0.9, 13:0.9, 14:0.95, 15:0.95, 16:0.9,\n",
        "                17:1.0, 18:1.0, 19:0.85, 20:0.7, 21:0.6, 22:0.45, 23:0.3, 0:0.1, 1:0.1,\n",
        "                2:0.1, 3:0.15, 4:0.25, 5:0.3, 6:0.65, 7:0.85}\n",
        "  import networkx as nx\n",
        "  l = nx.astar_path(G, S, D, heuristic=None, weight='weight')\n",
        "  lf = 0.0\n",
        "  if (S >l[1]):\n",
        "    a=l[1]\n",
        "    b=S\n",
        "  else :\n",
        "    b=l[1]\n",
        "    a=S\n",
        "  Time_taken = W[a,b]\n",
        "  olf = 0.0\n",
        "  P = p() + 1\n",
        "  nodes=[]\n",
        "  while(len(l) != 1):\n",
        "    # condition to check the change in time for every 15 mins and checking if Overall Load factor is incremented by 5%\n",
        "    if(lf <(Time_taken + 15) and olf < 5.0):\n",
        "      if (S >l[1]):\n",
        "        a=l[1]\n",
        "        b=S\n",
        "      else:\n",
        "        b=l[1]\n",
        "        a=S\n",
        "      # Calculating the load Factor\n",
        "      lf =  W[(a, b)] * base_level[int(T+(Time_taken/60))] * P\n",
        "      Time_taken += lf\n",
        "      S = l[1]\n",
        "      # Storing the nodes travelled through\n",
        "      nodes.append(l[0])\n",
        "      l.pop(0)\n",
        "    else:\n",
        "      P = p() + 1\n",
        "      if (S > l[1]):\n",
        "        a=l[1]\n",
        "        b=S\n",
        "      else :\n",
        "        b=l[1]\n",
        "        a=S\n",
        "      lf =  W[(a, b)] * base_level[int(T+(Time_taken/60))] * P\n",
        "      Time_taken += lf\n",
        "      S = l[1]\n",
        "      # Updating the weights for new P values\n",
        "      updated_W = update_Weights(W,P,base_level[int(T+(Time_taken/60))])\n",
        "      a = dict_diff(W, updated_W)\n",
        "      # Calculating the Overall Load Factor\n",
        "      olf = sum(a)/len(a)\n",
        "      W = updated_W\n",
        "      # Storing the nodes travelled through\n",
        "      nodes.append(l[0])\n",
        "      # Calculating the shortest path\n",
        "      l = nx.astar_path(G, S, D, heuristic=None, weight='weight')\n",
        "  nodes.append(l[0])\n",
        "  return T,nodes, Time_taken"
      ],
      "metadata": {
        "id": "k8imhkY0L38C"
      },
      "execution_count": 5,
      "outputs": []
    },
    {
      "cell_type": "code",
      "source": [
        "# Finding the sum of time taken by all the vechiles \n",
        "def Total_sumofVechiles(C):\n",
        "  return sum(C)"
      ],
      "metadata": {
        "id": "YgfpoBpLBHC8"
      },
      "execution_count": 6,
      "outputs": []
    },
    {
      "cell_type": "code",
      "source": [
        "# Dropping the vechiles once the journey is completed\n",
        "def remove_completedVechiles(df):\n",
        "  df = df.sort_values(by=['Start Time (24hrs)'])\n",
        "  for i in range(0,9):\n",
        "    df = df.loc[9:9]\n",
        "  return df"
      ],
      "metadata": {
        "id": "dK-gkvY_Bm9G"
      },
      "execution_count": 7,
      "outputs": []
    },
    {
      "cell_type": "code",
      "source": [
        "if __name__ == \"__main__\":\n",
        "  import random\n",
        "  from datetime import datetime\n",
        "  import pandas as pd\n",
        "  G,W = Create_nodes()\n",
        "  lst = [1, 2, 3, 4, 5, 6, 7, 8, 9]\n",
        "  A,B,C=[],[],[]\n",
        "  # Initiating 10 Vechiles to travel at different times.\n",
        "  for i in range(10):\n",
        "    S = random.randint(1,len(lst))\n",
        "    D = random.randint(1,len(lst))\n",
        "    while S == D:\n",
        "      D = random.randint(1,len(lst))\n",
        "    # Retriving the data of each vechile\n",
        "    a,b,c = load_and_nodes(G,W,S,D,random.randint(0,20))\n",
        "    A.append(datetime.strptime(str(a), '%H').time())\n",
        "    B.append(b)\n",
        "    C.append(c)\n",
        "  data = {\n",
        "  \"Nodes Travelled through\": B,\n",
        "  \"Total Time Taken (in mins)\": C,\n",
        "  \"Start Time (24hrs)\" : A\n",
        "  }\n",
        "  df = pd.DataFrame(data=data)\n",
        "  print(df.head(10))\n",
        "  remove_completedVechiles(df)\n",
        "  print(\"Total time taken for all the Vechiles (in mins) : \" + str(Total_sumofVechiles(C)))"
      ],
      "metadata": {
        "colab": {
          "base_uri": "https://localhost:8080/",
          "height": 483
        },
        "id": "pOXFXV-mcvxW",
        "outputId": "9d0b302b-e260-40fd-d784-26114a1ed733"
      },
      "execution_count": 8,
      "outputs": [
        {
          "output_type": "display_data",
          "data": {
            "text/plain": [
              "<Figure size 432x288 with 1 Axes>"
            ],
            "image/png": "[encoded data removed]"
          },
          "metadata": {}
        },
        {
          "output_type": "stream",
          "name": "stdout",
          "text": [
            "  Nodes Travelled through  Total Time Taken (in mins) Start Time (24hrs)\n",
            "0                  [4, 5]                   10.655536           17:00:00\n",
            "1                  [8, 1]                    3.540134           12:00:00\n",
            "2            [9, 4, 6, 8]                   36.898490           14:00:00\n",
            "3         [9, 4, 6, 8, 1]                   26.701726           06:00:00\n",
            "4               [8, 6, 4]                   22.850876           14:00:00\n",
            "5               [6, 4, 9]                    8.110609           04:00:00\n",
            "6            [9, 4, 6, 8]                   12.392708           03:00:00\n",
            "7         [2, 8, 6, 4, 9]                   31.375036           17:00:00\n",
            "8                  [5, 7]                    3.224886           00:00:00\n",
            "9            [7, 6, 8, 2]                   13.228915           02:00:00\n",
            "Total time taken for all the Vechiles (in mins) : 168.97891630873139\n"
          ]
        }
      ]
    }
  ],
  "metadata": {
    "colab": {
      "collapsed_sections": [],
      "provenance": []
    },
    "kernelspec": {
      "display_name": "Python 3",
      "name": "python3"
    },
    "language_info": {
      "name": "python"
    }
  },
  "nbformat": 4,
  "nbformat_minor": 0
}