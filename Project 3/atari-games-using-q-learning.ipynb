{
 "cells": [
  {
   "cell_type": "markdown",
   "id": "0112822a",
   "metadata": {
    "id": "XiyDQBbt2sq3",
    "papermill": {
     "duration": 0.01061,
     "end_time": "2022-08-18T11:33:08.371469",
     "exception": false,
     "start_time": "2022-08-18T11:33:08.360859",
     "status": "completed"
    },
    "pycharm": {
     "name": "#%% md\n"
    },
    "tags": []
   },
   "source": [
    "## Install libraries"
   ]
  },
  {
   "cell_type": "code",
   "execution_count": 1,
   "id": "29721f36",
   "metadata": {
    "execution": {
     "iopub.execute_input": "2022-08-18T11:33:08.392791Z",
     "iopub.status.busy": "2022-08-18T11:33:08.392173Z",
     "iopub.status.idle": "2022-08-18T11:34:23.581130Z",
     "shell.execute_reply": "2022-08-18T11:34:23.579606Z"
    },
    "id": "GRSc2R-U80Io",
    "outputId": "86e493b5-4e51-468d-d124-232808d4cc24",
    "papermill": {
     "duration": 75.203035,
     "end_time": "2022-08-18T11:34:23.584042",
     "exception": false,
     "start_time": "2022-08-18T11:33:08.381007",
     "status": "completed"
    },
    "pycharm": {
     "is_executing": true,
     "name": "#%%\n"
    },
    "tags": []
   },
   "outputs": [
    {
     "name": "stdout",
     "output_type": "stream",
     "text": [
      "Collecting cmake\r\n",
      "  Downloading cmake-3.24.1-py2.py3-none-manylinux_2_17_x86_64.manylinux2014_x86_64.whl (23.3 MB)\r\n",
      "\u001b[2K     \u001b[90m━━━━━━━━━━━━━━━━━━━━━━━━━━━━━━━━━━━━━━━━\u001b[0m \u001b[32m23.3/23.3 MB\u001b[0m \u001b[31m21.7 MB/s\u001b[0m eta \u001b[36m0:00:00\u001b[0m\r\n",
      "\u001b[?25hRequirement already satisfied: gym[atari] in /opt/conda/lib/python3.7/site-packages (0.25.0)\r\n",
      "Requirement already satisfied: scipy in /opt/conda/lib/python3.7/site-packages (1.7.3)\r\n",
      "Requirement already satisfied: numpy>=1.18.0 in /opt/conda/lib/python3.7/site-packages (from gym[atari]) (1.21.6)\r\n",
      "Requirement already satisfied: gym-notices>=0.0.4 in /opt/conda/lib/python3.7/site-packages (from gym[atari]) (0.0.7)\r\n",
      "Requirement already satisfied: cloudpickle>=1.2.0 in /opt/conda/lib/python3.7/site-packages (from gym[atari]) (2.1.0)\r\n",
      "Requirement already satisfied: importlib-metadata>=4.8.0 in /opt/conda/lib/python3.7/site-packages (from gym[atari]) (4.12.0)\r\n",
      "Collecting ale-py~=0.7.5\r\n",
      "  Downloading ale_py-0.7.5-cp37-cp37m-manylinux_2_17_x86_64.manylinux2014_x86_64.whl (1.6 MB)\r\n",
      "\u001b[2K     \u001b[90m━━━━━━━━━━━━━━━━━━━━━━━━━━━━━━━━━━━━━━━━\u001b[0m \u001b[32m1.6/1.6 MB\u001b[0m \u001b[31m44.2 MB/s\u001b[0m eta \u001b[36m0:00:00\u001b[0m\r\n",
      "\u001b[?25hRequirement already satisfied: importlib-resources in /opt/conda/lib/python3.7/site-packages (from ale-py~=0.7.5->gym[atari]) (5.8.0)\r\n",
      "Requirement already satisfied: typing-extensions>=3.6.4 in /opt/conda/lib/python3.7/site-packages (from importlib-metadata>=4.8.0->gym[atari]) (4.1.1)\r\n",
      "Requirement already satisfied: zipp>=0.5 in /opt/conda/lib/python3.7/site-packages (from importlib-metadata>=4.8.0->gym[atari]) (3.8.0)\r\n",
      "Installing collected packages: cmake, ale-py\r\n",
      "Successfully installed ale-py-0.7.5 cmake-3.24.1\r\n",
      "\u001b[33mWARNING: Running pip as the 'root' user can result in broken permissions and conflicting behaviour with the system package manager. It is recommended to use a virtual environment instead: https://pip.pypa.io/warnings/venv\u001b[0m\u001b[33m\r\n",
      "\u001b[0mRequirement already satisfied: gym[atari] in /opt/conda/lib/python3.7/site-packages (0.25.0)\r\n",
      "Requirement already satisfied: cloudpickle>=1.2.0 in /opt/conda/lib/python3.7/site-packages (from gym[atari]) (2.1.0)\r\n",
      "Requirement already satisfied: importlib-metadata>=4.8.0 in /opt/conda/lib/python3.7/site-packages (from gym[atari]) (4.12.0)\r\n",
      "Requirement already satisfied: numpy>=1.18.0 in /opt/conda/lib/python3.7/site-packages (from gym[atari]) (1.21.6)\r\n",
      "Requirement already satisfied: gym-notices>=0.0.4 in /opt/conda/lib/python3.7/site-packages (from gym[atari]) (0.0.7)\r\n",
      "Requirement already satisfied: ale-py~=0.7.5 in /opt/conda/lib/python3.7/site-packages (from gym[atari]) (0.7.5)\r\n",
      "Requirement already satisfied: importlib-resources in /opt/conda/lib/python3.7/site-packages (from ale-py~=0.7.5->gym[atari]) (5.8.0)\r\n",
      "Requirement already satisfied: typing-extensions>=3.6.4 in /opt/conda/lib/python3.7/site-packages (from importlib-metadata>=4.8.0->gym[atari]) (4.1.1)\r\n",
      "Requirement already satisfied: zipp>=0.5 in /opt/conda/lib/python3.7/site-packages (from importlib-metadata>=4.8.0->gym[atari]) (3.8.0)\r\n",
      "\u001b[33mWARNING: Running pip as the 'root' user can result in broken permissions and conflicting behaviour with the system package manager. It is recommended to use a virtual environment instead: https://pip.pypa.io/warnings/venv\u001b[0m\u001b[33m\r\n",
      "\u001b[0mCollecting autorom[accept-rom-license]\r\n",
      "  Downloading AutoROM-0.4.2-py3-none-any.whl (16 kB)\r\n",
      "Requirement already satisfied: tqdm in /opt/conda/lib/python3.7/site-packages (from autorom[accept-rom-license]) (4.64.0)\r\n",
      "Requirement already satisfied: requests in /opt/conda/lib/python3.7/site-packages (from autorom[accept-rom-license]) (2.28.1)\r\n",
      "Requirement already satisfied: importlib-resources in /opt/conda/lib/python3.7/site-packages (from autorom[accept-rom-license]) (5.8.0)\r\n",
      "Requirement already satisfied: click in /opt/conda/lib/python3.7/site-packages (from autorom[accept-rom-license]) (8.0.4)\r\n",
      "Collecting AutoROM.accept-rom-license\r\n",
      "  Downloading AutoROM.accept-rom-license-0.4.2.tar.gz (9.8 kB)\r\n",
      "  Installing build dependencies ... \u001b[?25l-\b \b\\\b \b|\b \b/\b \b-\b \b\\\b \b|\b \b/\b \b-\b \b\\\b \b|\b \b/\b \b-\b \b\\\b \b|\b \b/\b \b-\b \bdone\r\n",
      "\u001b[?25h  Getting requirements to build wheel ... \u001b[?25l-\b \bdone\r\n",
      "\u001b[?25h  Preparing metadata (pyproject.toml) ... \u001b[?25l-\b \bdone\r\n",
      "\u001b[?25hRequirement already satisfied: importlib-metadata in /opt/conda/lib/python3.7/site-packages (from click->autorom[accept-rom-license]) (4.12.0)\r\n",
      "Requirement already satisfied: zipp>=3.1.0 in /opt/conda/lib/python3.7/site-packages (from importlib-resources->autorom[accept-rom-license]) (3.8.0)\r\n",
      "Requirement already satisfied: charset-normalizer<3,>=2 in /opt/conda/lib/python3.7/site-packages (from requests->autorom[accept-rom-license]) (2.1.0)\r\n",
      "Requirement already satisfied: certifi>=2017.4.17 in /opt/conda/lib/python3.7/site-packages (from requests->autorom[accept-rom-license]) (2022.6.15)\r\n",
      "Requirement already satisfied: urllib3<1.27,>=1.21.1 in /opt/conda/lib/python3.7/site-packages (from requests->autorom[accept-rom-license]) (1.26.9)\r\n",
      "Requirement already satisfied: idna<4,>=2.5 in /opt/conda/lib/python3.7/site-packages (from requests->autorom[accept-rom-license]) (3.3)\r\n",
      "Requirement already satisfied: typing-extensions>=3.6.4 in /opt/conda/lib/python3.7/site-packages (from importlib-metadata->click->autorom[accept-rom-license]) (4.1.1)\r\n",
      "Building wheels for collected packages: AutoROM.accept-rom-license\r\n",
      "  Building wheel for AutoROM.accept-rom-license (pyproject.toml) ... \u001b[?25l-\b \b\\\b \b|\b \b/\b \b-\b \bdone\r\n",
      "\u001b[?25h  Created wheel for AutoROM.accept-rom-license: filename=AutoROM.accept_rom_license-0.4.2-py3-none-any.whl size=446447 sha256=81043af2afd2bfc159daa64c5cbaaf2983d8f2797bbc7e77a41bd4f00dd6ff64\r\n",
      "  Stored in directory: /root/.cache/pip/wheels/87/67/2e/6147e7912fe37f5408b80d07527dab807c1d25f5c403a9538a\r\n",
      "Successfully built AutoROM.accept-rom-license\r\n",
      "Installing collected packages: AutoROM.accept-rom-license, autorom\r\n",
      "Successfully installed AutoROM.accept-rom-license-0.4.2 autorom-0.4.2\r\n",
      "\u001b[33mWARNING: Running pip as the 'root' user can result in broken permissions and conflicting behaviour with the system package manager. It is recommended to use a virtual environment instead: https://pip.pypa.io/warnings/venv\u001b[0m\u001b[33m\r\n",
      "\u001b[0mCollecting gym[accept-rom-license,atari]==0.21.0\r\n",
      "  Downloading gym-0.21.0.tar.gz (1.5 MB)\r\n",
      "\u001b[2K     \u001b[90m━━━━━━━━━━━━━━━━━━━━━━━━━━━━━━━━━━━━━━━━\u001b[0m \u001b[32m1.5/1.5 MB\u001b[0m \u001b[31m3.2 MB/s\u001b[0m eta \u001b[36m0:00:00\u001b[0m\r\n",
      "\u001b[?25h  Preparing metadata (setup.py) ... \u001b[?25l-\b \bdone\r\n",
      "\u001b[?25hRequirement already satisfied: numpy>=1.18.0 in /opt/conda/lib/python3.7/site-packages (from gym[accept-rom-license,atari]==0.21.0) (1.21.6)\r\n",
      "Requirement already satisfied: cloudpickle>=1.2.0 in /opt/conda/lib/python3.7/site-packages (from gym[accept-rom-license,atari]==0.21.0) (2.1.0)\r\n",
      "Requirement already satisfied: importlib_metadata>=4.8.1 in /opt/conda/lib/python3.7/site-packages (from gym[accept-rom-license,atari]==0.21.0) (4.12.0)\r\n",
      "Requirement already satisfied: ale-py~=0.7.1 in /opt/conda/lib/python3.7/site-packages (from gym[accept-rom-license,atari]==0.21.0) (0.7.5)\r\n",
      "Requirement already satisfied: autorom[accept-rom-license]~=0.4.2 in /opt/conda/lib/python3.7/site-packages (from gym[accept-rom-license,atari]==0.21.0) (0.4.2)\r\n",
      "Requirement already satisfied: importlib-resources in /opt/conda/lib/python3.7/site-packages (from ale-py~=0.7.1->gym[accept-rom-license,atari]==0.21.0) (5.8.0)\r\n",
      "Requirement already satisfied: click in /opt/conda/lib/python3.7/site-packages (from autorom[accept-rom-license]~=0.4.2->gym[accept-rom-license,atari]==0.21.0) (8.0.4)\r\n",
      "Requirement already satisfied: requests in /opt/conda/lib/python3.7/site-packages (from autorom[accept-rom-license]~=0.4.2->gym[accept-rom-license,atari]==0.21.0) (2.28.1)\r\n",
      "Requirement already satisfied: tqdm in /opt/conda/lib/python3.7/site-packages (from autorom[accept-rom-license]~=0.4.2->gym[accept-rom-license,atari]==0.21.0) (4.64.0)\r\n",
      "Requirement already satisfied: AutoROM.accept-rom-license in /opt/conda/lib/python3.7/site-packages (from autorom[accept-rom-license]~=0.4.2->gym[accept-rom-license,atari]==0.21.0) (0.4.2)\r\n",
      "Requirement already satisfied: zipp>=0.5 in /opt/conda/lib/python3.7/site-packages (from importlib_metadata>=4.8.1->gym[accept-rom-license,atari]==0.21.0) (3.8.0)\r\n",
      "Requirement already satisfied: typing-extensions>=3.6.4 in /opt/conda/lib/python3.7/site-packages (from importlib_metadata>=4.8.1->gym[accept-rom-license,atari]==0.21.0) (4.1.1)\r\n",
      "Requirement already satisfied: certifi>=2017.4.17 in /opt/conda/lib/python3.7/site-packages (from requests->autorom[accept-rom-license]~=0.4.2->gym[accept-rom-license,atari]==0.21.0) (2022.6.15)\r\n",
      "Requirement already satisfied: charset-normalizer<3,>=2 in /opt/conda/lib/python3.7/site-packages (from requests->autorom[accept-rom-license]~=0.4.2->gym[accept-rom-license,atari]==0.21.0) (2.1.0)\r\n",
      "Requirement already satisfied: urllib3<1.27,>=1.21.1 in /opt/conda/lib/python3.7/site-packages (from requests->autorom[accept-rom-license]~=0.4.2->gym[accept-rom-license,atari]==0.21.0) (1.26.9)\r\n",
      "Requirement already satisfied: idna<4,>=2.5 in /opt/conda/lib/python3.7/site-packages (from requests->autorom[accept-rom-license]~=0.4.2->gym[accept-rom-license,atari]==0.21.0) (3.3)\r\n",
      "Building wheels for collected packages: gym\r\n",
      "  Building wheel for gym (setup.py) ... \u001b[?25l-\b \b\\\b \b|\b \b/\b \b-\b \bdone\r\n",
      "\u001b[?25h  Created wheel for gym: filename=gym-0.21.0-py3-none-any.whl size=1616827 sha256=dddf271686a90ec59bacf0e2e943853fc2cd00c6b4adab534221acb562842992\r\n",
      "  Stored in directory: /root/.cache/pip/wheels/76/ee/9c/36bfe3e079df99acf5ae57f4e3464ff2771b34447d6d2f2148\r\n",
      "Successfully built gym\r\n",
      "Installing collected packages: gym\r\n",
      "  Attempting uninstall: gym\r\n",
      "    Found existing installation: gym 0.25.0\r\n",
      "    Uninstalling gym-0.25.0:\r\n",
      "      Successfully uninstalled gym-0.25.0\r\n",
      "Successfully installed gym-0.21.0\r\n",
      "\u001b[33mWARNING: Running pip as the 'root' user can result in broken permissions and conflicting behaviour with the system package manager. It is recommended to use a virtual environment instead: https://pip.pypa.io/warnings/venv\u001b[0m\u001b[33m\r\n",
      "\u001b[0m"
     ]
    }
   ],
   "source": [
    "!pip install cmake 'gym[atari]' scipy\n",
    "!pip install gym[atari]\n",
    "!pip install autorom[accept-rom-license]\n",
    "!pip install gym[atari,accept-rom-license]==0.21.0"
   ]
  },
  {
   "cell_type": "markdown",
   "id": "22a0c9d6",
   "metadata": {
    "id": "gqC7ZAH54tZr",
    "papermill": {
     "duration": 0.015254,
     "end_time": "2022-08-18T11:34:23.615298",
     "exception": false,
     "start_time": "2022-08-18T11:34:23.600044",
     "status": "completed"
    },
    "pycharm": {
     "name": "#%% md\n"
    },
    "tags": []
   },
   "source": [
    "## Import the libraries"
   ]
  },
  {
   "cell_type": "code",
   "execution_count": 2,
   "id": "fef0e594",
   "metadata": {
    "execution": {
     "iopub.execute_input": "2022-08-18T11:34:23.650599Z",
     "iopub.status.busy": "2022-08-18T11:34:23.650113Z",
     "iopub.status.idle": "2022-08-18T11:34:24.034035Z",
     "shell.execute_reply": "2022-08-18T11:34:24.032718Z"
    },
    "id": "_PkWhmI04w3D",
    "papermill": {
     "duration": 0.404518,
     "end_time": "2022-08-18T11:34:24.036785",
     "exception": false,
     "start_time": "2022-08-18T11:34:23.632267",
     "status": "completed"
    },
    "pycharm": {
     "name": "#%%\n"
    },
    "tags": []
   },
   "outputs": [],
   "source": [
    "import matplotlib.pyplot as plt\n",
    "from IPython.display import clear_output\n",
    "from time import sleep\n",
    "import gym\n",
    "import numpy as np\n",
    "import random"
   ]
  },
  {
   "cell_type": "markdown",
   "id": "c329a566",
   "metadata": {
    "id": "406VovPQ5F6F",
    "papermill": {
     "duration": 0.016166,
     "end_time": "2022-08-18T11:34:24.069897",
     "exception": false,
     "start_time": "2022-08-18T11:34:24.053731",
     "status": "completed"
    },
    "pycharm": {
     "name": "#%% md\n"
    },
    "tags": []
   },
   "source": [
    "## Setup the game environment"
   ]
  },
  {
   "cell_type": "code",
   "execution_count": 3,
   "id": "10077692",
   "metadata": {
    "execution": {
     "iopub.execute_input": "2022-08-18T11:34:24.103731Z",
     "iopub.status.busy": "2022-08-18T11:34:24.103318Z",
     "iopub.status.idle": "2022-08-18T11:34:24.109183Z",
     "shell.execute_reply": "2022-08-18T11:34:24.107861Z"
    },
    "id": "vc00XKoClB4h",
    "papermill": {
     "duration": 0.025114,
     "end_time": "2022-08-18T11:34:24.111433",
     "exception": false,
     "start_time": "2022-08-18T11:34:24.086319",
     "status": "completed"
    },
    "pycharm": {
     "name": "#%%\n"
    },
    "tags": []
   },
   "outputs": [],
   "source": [
    "def get_env(env_name):\n",
    "  \"\"\" This function takes the environment name and return the environment after resetting \n",
    "  input: env_name -> string\n",
    "  return: env -> the environment object\n",
    "  \"\"\"\n",
    "  env = gym.make(env_name)\n",
    "  env.reset() # reset environment to a new, random state\n",
    "  return env"
   ]
  },
  {
   "cell_type": "markdown",
   "id": "90c0c052",
   "metadata": {
    "id": "hwdKgv715UZ8",
    "papermill": {
     "duration": 0.015174,
     "end_time": "2022-08-18T11:34:24.142358",
     "exception": false,
     "start_time": "2022-08-18T11:34:24.127184",
     "status": "completed"
    },
    "pycharm": {
     "name": "#%% md\n"
    },
    "tags": []
   },
   "source": [
    "## build frames of the game till it's done"
   ]
  },
  {
   "cell_type": "code",
   "execution_count": 4,
   "id": "d4aa74ba",
   "metadata": {
    "execution": {
     "iopub.execute_input": "2022-08-18T11:34:24.174963Z",
     "iopub.status.busy": "2022-08-18T11:34:24.174573Z",
     "iopub.status.idle": "2022-08-18T11:34:24.181758Z",
     "shell.execute_reply": "2022-08-18T11:34:24.180816Z"
    },
    "id": "Y7d2T625lVcE",
    "papermill": {
     "duration": 0.026074,
     "end_time": "2022-08-18T11:34:24.183825",
     "exception": false,
     "start_time": "2022-08-18T11:34:24.157751",
     "status": "completed"
    },
    "pycharm": {
     "name": "#%%\n"
    },
    "tags": []
   },
   "outputs": [],
   "source": [
    "def frame_builder(env):\n",
    "  \"\"\"  this function take the env and take actions till the game done and return the frames of the game\n",
    "\n",
    "  Input:  \n",
    "      env -> environment object\n",
    "  Output:\n",
    "      frames -> list of dictionaries as each frame has [{action, frame, reward, state},....]\n",
    "  \"\"\"\n",
    "  env.render()  \n",
    "  epochs = 0\n",
    "  penalties, reward = 0, 0\n",
    "  frames = []\n",
    "  done = False\n",
    "\n",
    "  while not done:\n",
    "    # automatically selects one random action \n",
    "      action = env.action_space.sample()\n",
    "      state, reward, done, info = env.step(action)\n",
    "\n",
    "      if reward == -10:\n",
    "          penalties += 1\n",
    "\n",
    "      # Put each rendered frame into dict for animation\n",
    "      frames.append({\n",
    "          'frame': env.render(mode='ansi'),\n",
    "          'state': state,\n",
    "          'action': action,\n",
    "          'reward': reward\n",
    "          }\n",
    "      )\n",
    "      epochs += 1\n",
    "  return frames"
   ]
  },
  {
   "cell_type": "code",
   "execution_count": 5,
   "id": "2a14556f",
   "metadata": {
    "execution": {
     "iopub.execute_input": "2022-08-18T11:34:24.217229Z",
     "iopub.status.busy": "2022-08-18T11:34:24.216485Z",
     "iopub.status.idle": "2022-08-18T11:34:24.252427Z",
     "shell.execute_reply": "2022-08-18T11:34:24.251553Z"
    },
    "id": "F0VohbCQao3h",
    "outputId": "9f81a38c-23d8-4853-c636-fd974df6f46b",
    "papermill": {
     "duration": 0.055064,
     "end_time": "2022-08-18T11:34:24.254537",
     "exception": false,
     "start_time": "2022-08-18T11:34:24.199473",
     "status": "completed"
    },
    "pycharm": {
     "name": "#%%\n"
    },
    "tags": []
   },
   "outputs": [
    {
     "name": "stdout",
     "output_type": "stream",
     "text": [
      "Action Space Discrete(6)\n",
      "State Space Discrete(500)\n",
      "+---------+\n",
      "|\u001b[35mR\u001b[0m: | : :G|\n",
      "| : | : : |\n",
      "| : : : : |\n",
      "| | : | : |\n",
      "|Y| :\u001b[43m \u001b[0m|\u001b[34;1mB\u001b[0m: |\n",
      "+---------+\n",
      "\n"
     ]
    },
    {
     "data": {
      "text/plain": [
       "{'frame': '+---------+\\n|\\x1b[35mR\\x1b[0m: | : :G|\\n| : | : : |\\n| : : : : |\\n| | : | : |\\n|Y| :\\x1b[43m \\x1b[0m|\\x1b[34;1mB\\x1b[0m: |\\n+---------+\\n  (Dropoff)\\n',\n",
       " 'state': 452,\n",
       " 'action': 5,\n",
       " 'reward': -10}"
      ]
     },
     "execution_count": 5,
     "metadata": {},
     "output_type": "execute_result"
    }
   ],
   "source": [
    "env_name = 'Taxi-v3'\n",
    "env = get_env(env_name)\n",
    "print(\"Action Space {}\".format(env.action_space))\n",
    "print(\"State Space {}\".format(env.observation_space))\n",
    "frames = frame_builder(env)\n",
    "frames[0]"
   ]
  },
  {
   "cell_type": "code",
   "execution_count": 6,
   "id": "08765062",
   "metadata": {
    "execution": {
     "iopub.execute_input": "2022-08-18T11:34:24.288239Z",
     "iopub.status.busy": "2022-08-18T11:34:24.287535Z",
     "iopub.status.idle": "2022-08-18T11:34:24.295840Z",
     "shell.execute_reply": "2022-08-18T11:34:24.294720Z"
    },
    "id": "w7PwMx255fB-",
    "outputId": "25c335c4-6df5-4f22-b7d7-77b91419b414",
    "papermill": {
     "duration": 0.027689,
     "end_time": "2022-08-18T11:34:24.298009",
     "exception": false,
     "start_time": "2022-08-18T11:34:24.270320",
     "status": "completed"
    },
    "pycharm": {
     "name": "#%%\n"
    },
    "tags": []
   },
   "outputs": [
    {
     "name": "stdout",
     "output_type": "stream",
     "text": [
      "Action Space Discrete(4)\n",
      "State Space Discrete(16)\n",
      "\n",
      "\u001b[41mS\u001b[0mFFF\n",
      "FHFH\n",
      "FFFH\n",
      "HFFG\n"
     ]
    }
   ],
   "source": [
    "env_name = 'FrozenLake-v1'\n",
    "env = get_env(env_name)\n",
    "print(\"Action Space {}\".format(env.action_space))\n",
    "print(\"State Space {}\".format(env.observation_space))\n",
    "frames = frame_builder(env)"
   ]
  },
  {
   "cell_type": "markdown",
   "id": "21cf4042",
   "metadata": {
    "id": "CeYPZnQQ4K8d",
    "papermill": {
     "duration": 0.015438,
     "end_time": "2022-08-18T11:34:24.329396",
     "exception": false,
     "start_time": "2022-08-18T11:34:24.313958",
     "status": "completed"
    },
    "pycharm": {
     "name": "#%% md\n"
    },
    "tags": []
   },
   "source": [
    "## Frame visualization function\n",
    "visualize the updated frames in the game "
   ]
  },
  {
   "cell_type": "code",
   "execution_count": 7,
   "id": "e78b9d6b",
   "metadata": {
    "execution": {
     "iopub.execute_input": "2022-08-18T11:34:24.363550Z",
     "iopub.status.busy": "2022-08-18T11:34:24.362838Z",
     "iopub.status.idle": "2022-08-18T11:34:24.368883Z",
     "shell.execute_reply": "2022-08-18T11:34:24.367847Z"
    },
    "id": "DXGqX1A1dsUP",
    "papermill": {
     "duration": 0.02595,
     "end_time": "2022-08-18T11:34:24.371327",
     "exception": false,
     "start_time": "2022-08-18T11:34:24.345377",
     "status": "completed"
    },
    "pycharm": {
     "name": "#%%\n"
    },
    "tags": []
   },
   "outputs": [],
   "source": [
    "def print_frames(frames):\n",
    "  \"\"\"\" this fucntion go pass over the frames to show us each frame and it's info\n",
    "    \n",
    "  Input: \n",
    "      the frames\n",
    "\n",
    "  print: \n",
    "      frame, state, action, and reward\n",
    "  \"\"\"\n",
    "  for i, frame in enumerate(frames):\n",
    "        # clear_output(wait=True)\n",
    "        #print(frame['frame'].getvalue())\n",
    "        print(frame['frame'])\n",
    "        print(f\"Timestep: {i + 1}\")\n",
    "        print(f\"State: {frame['state']}\")\n",
    "        print(f\"Action: {frame['action']}\")\n",
    "        print(f\"Reward: {frame['reward']}\")\n",
    "        sleep(.1)"
   ]
  },
  {
   "cell_type": "markdown",
   "id": "27271f22",
   "metadata": {
    "id": "jTgDVYLT53Dk",
    "papermill": {
     "duration": 0.015444,
     "end_time": "2022-08-18T11:34:24.402661",
     "exception": false,
     "start_time": "2022-08-18T11:34:24.387217",
     "status": "completed"
    },
    "pycharm": {
     "name": "#%% md\n"
    },
    "tags": []
   },
   "source": [
    "## Implement Q-Learning"
   ]
  },
  {
   "cell_type": "markdown",
   "id": "94566f0e",
   "metadata": {
    "id": "ukh3wXxR6HJb",
    "papermill": {
     "duration": 0.015442,
     "end_time": "2022-08-18T11:34:24.433811",
     "exception": false,
     "start_time": "2022-08-18T11:34:24.418369",
     "status": "completed"
    },
    "pycharm": {
     "name": "#%% md\n"
    },
    "tags": []
   },
   "source": [
    "### Build the q-table"
   ]
  },
  {
   "cell_type": "code",
   "execution_count": 8,
   "id": "ee57bec6",
   "metadata": {
    "execution": {
     "iopub.execute_input": "2022-08-18T11:34:24.467066Z",
     "iopub.status.busy": "2022-08-18T11:34:24.466642Z",
     "iopub.status.idle": "2022-08-18T11:34:24.478082Z",
     "shell.execute_reply": "2022-08-18T11:34:24.477213Z"
    },
    "id": "FB_jredqIMLf",
    "papermill": {
     "duration": 0.03049,
     "end_time": "2022-08-18T11:34:24.480056",
     "exception": false,
     "start_time": "2022-08-18T11:34:24.449566",
     "status": "completed"
    },
    "pycharm": {
     "name": "#%%\n"
    },
    "tags": []
   },
   "outputs": [],
   "source": [
    "def q_table_train(env,alpha = 0.1,gamma = 0.6,epsilon = 0.1, decay_over=False, decay_factor=.1):\n",
    "  \"\"\"\n",
    "  This function is for building the  q-table with trained weights and use the decay over \n",
    "\n",
    "  Input :\n",
    "      alpha (float)-> the learning rate -> scaler\n",
    "      gamma (float) -> the discount factor -> scaler\n",
    "      epsilon (float) ->the epsilon-greedy action selection -> scaler\n",
    "\n",
    "      decay_over -> Boolen varible\n",
    "      decay_factor -> float to manage the speed of decaying\n",
    "\n",
    "  Output : \n",
    "      q-table (list)\n",
    "  \"\"\"\n",
    "  q_table = np.zeros([env.observation_space.n, env.action_space.n])\n",
    "\n",
    "  for i in range(1, 100001): #100001\n",
    "      if decay_over and (i %5000==0):\n",
    "        alpha, gamma, epsilon = alpha*(1-alpha*decay_factor), gamma*(1-gamma*decay_factor), epsilon*(1-epsilon*decay_factor)\n",
    "         \n",
    "      state = env.reset()\n",
    "      epochs, penalties, reward, = 0, 0, 0\n",
    "      done = False\n",
    "      # decay over episode\n",
    "      while not done:\n",
    "          if random.uniform(0, 1) < epsilon:\n",
    "              action = env.action_space.sample() # Explore action space\n",
    "          else:\n",
    "              action = np.argmax(q_table[state]) # Exploit learned values\n",
    "\n",
    "          next_state, reward, done, info = env.step(action) \n",
    "          \n",
    "          old_value = q_table[state, action]\n",
    "          next_max = np.max(q_table[next_state])\n",
    "          \n",
    "          new_value = (1 - alpha) * old_value + alpha * (reward + gamma * next_max)\n",
    "          q_table[state, action] = new_value\n",
    "\n",
    "          if reward == -10:\n",
    "              penalties += 1\n",
    "\n",
    "          state = next_state\n",
    "          epochs += 1\n",
    "          \n",
    "      if i % 100 == 0:\n",
    "          clear_output(wait=True)\n",
    "          print(f\"Episode: {i}\")\n",
    "  return q_table"
   ]
  },
  {
   "cell_type": "code",
   "execution_count": 9,
   "id": "35afc5c2",
   "metadata": {
    "execution": {
     "iopub.execute_input": "2022-08-18T11:34:24.514109Z",
     "iopub.status.busy": "2022-08-18T11:34:24.513145Z",
     "iopub.status.idle": "2022-08-18T11:34:24.521898Z",
     "shell.execute_reply": "2022-08-18T11:34:24.520798Z"
    },
    "id": "38efXlUOwmEK",
    "papermill": {
     "duration": 0.028331,
     "end_time": "2022-08-18T11:34:24.524229",
     "exception": false,
     "start_time": "2022-08-18T11:34:24.495898",
     "status": "completed"
    },
    "pycharm": {
     "name": "#%%\n"
    },
    "tags": []
   },
   "outputs": [],
   "source": [
    "def model_evaluate(env, q_table):\n",
    "    \"\"\" \n",
    "    the function take the env object and the q-table list to find the AVG_timesteps, and the AVG_penalities\n",
    "\n",
    "    Input: \n",
    "        env (object type) \n",
    "        q_table (list)\n",
    "\n",
    "    Output:\n",
    "        frames (list)-> list of frames\n",
    "        AVG_timesteps (float)-> the average time steps\n",
    "        AVG_penalities (float)-> the average penalites\n",
    "    \"\"\"\n",
    "    frames = []\n",
    "    total_epochs, total_penalties = 0, 0\n",
    "    episodes = 100\n",
    "    for _ in range(episodes):\n",
    "        state = env.reset()\n",
    "        epochs, penalties, reward = 0, 0, 0\n",
    "        done = False\n",
    "\n",
    "        while not done:\n",
    "            action = np.argmax(q_table[state])\n",
    "            state, reward, done, info = env.step(action)\n",
    "            if reward == -10:\n",
    "                penalties += 1\n",
    "            frames.append({\n",
    "                'frame': env.render(mode='ansi'),\n",
    "                'state': state,\n",
    "                'action': action,\n",
    "                'reward': reward\n",
    "                }\n",
    "            )\n",
    "            epochs += 1\n",
    "\n",
    "        total_penalties += penalties\n",
    "        total_epochs += epochs\n",
    "    \n",
    "    AVG_timesteps = total_epochs / episodes\n",
    "    AVG_penalities = total_penalties / episodes\n",
    "    return frames, AVG_timesteps, AVG_penalities"
   ]
  },
  {
   "cell_type": "markdown",
   "id": "d189f057",
   "metadata": {
    "id": "UHSoQ0H0bMD3",
    "papermill": {
     "duration": 0.015571,
     "end_time": "2022-08-18T11:34:24.555800",
     "exception": false,
     "start_time": "2022-08-18T11:34:24.540229",
     "status": "completed"
    },
    "pycharm": {
     "name": "#%% md\n"
    },
    "tags": []
   },
   "source": [
    "## Hyperparameter"
   ]
  },
  {
   "cell_type": "code",
   "execution_count": 10,
   "id": "a0e99898",
   "metadata": {
    "execution": {
     "iopub.execute_input": "2022-08-18T11:34:24.589765Z",
     "iopub.status.busy": "2022-08-18T11:34:24.589081Z",
     "iopub.status.idle": "2022-08-18T11:34:24.593345Z",
     "shell.execute_reply": "2022-08-18T11:34:24.592482Z"
    },
    "id": "3bqXsIVXbOZh",
    "papermill": {
     "duration": 0.023959,
     "end_time": "2022-08-18T11:34:24.595694",
     "exception": false,
     "start_time": "2022-08-18T11:34:24.571735",
     "status": "completed"
    },
    "pycharm": {
     "name": "#%%\n"
    },
    "tags": []
   },
   "outputs": [],
   "source": [
    "alpha = 0.6\n",
    "gamma = 0.9\n",
    "epsilon = 0.1"
   ]
  },
  {
   "cell_type": "markdown",
   "id": "274b8264",
   "metadata": {
    "id": "KCc8gYr8J-e_",
    "papermill": {
     "duration": 0.015663,
     "end_time": "2022-08-18T11:34:24.627439",
     "exception": false,
     "start_time": "2022-08-18T11:34:24.611776",
     "status": "completed"
    },
    "pycharm": {
     "name": "#%% md\n"
    },
    "tags": []
   },
   "source": [
    "## Q-table"
   ]
  },
  {
   "cell_type": "code",
   "execution_count": 11,
   "id": "bc63658d",
   "metadata": {
    "execution": {
     "iopub.execute_input": "2022-08-18T11:34:24.662659Z",
     "iopub.status.busy": "2022-08-18T11:34:24.661894Z",
     "iopub.status.idle": "2022-08-18T11:35:18.626292Z",
     "shell.execute_reply": "2022-08-18T11:35:18.624394Z"
    },
    "id": "pWvc7SxBbDPO",
    "outputId": "a7a95f1c-b047-4a53-83cd-1430c0b4137a",
    "papermill": {
     "duration": 53.985699,
     "end_time": "2022-08-18T11:35:18.629115",
     "exception": false,
     "start_time": "2022-08-18T11:34:24.643416",
     "status": "completed"
    },
    "pycharm": {
     "name": "#%%\n"
    },
    "tags": []
   },
   "outputs": [
    {
     "name": "stdout",
     "output_type": "stream",
     "text": [
      "Episode: 100000\n",
      "13.45 0.0\n",
      "[[ 0.          0.          0.          0.          0.          0.        ]\n",
      " [-0.58568212  0.4603532  -0.58568212  0.4603532   1.62261467 -8.5396468 ]\n",
      " [ 4.348907    5.94323     4.348907    5.94323     7.7147     -3.05677   ]\n",
      " ...\n",
      " [ 6.18893021  9.683       4.16647773  5.94323    -2.84744232 -5.44346971]\n",
      " [ 1.26584249  1.82864657  1.47714114  2.9140163  -7.36422611 -7.3983982 ]\n",
      " [14.3        11.87       14.3        17.          5.3         5.3       ]]\n"
     ]
    }
   ],
   "source": [
    "env_name = 'Taxi-v3'\n",
    "env = get_env(env_name)\n",
    "q_table=q_table_train(env,alpha =alpha,gamma = gamma,epsilon = epsilon)\n",
    "frames, AVG_timesteps, AVG_penalities= model_evaluate(env, q_table)\n",
    "print(AVG_timesteps, AVG_penalities)\n",
    "print(q_table)"
   ]
  },
  {
   "cell_type": "code",
   "execution_count": 12,
   "id": "6f68809f",
   "metadata": {
    "execution": {
     "iopub.execute_input": "2022-08-18T11:35:18.664449Z",
     "iopub.status.busy": "2022-08-18T11:35:18.664054Z",
     "iopub.status.idle": "2022-08-18T11:36:19.779549Z",
     "shell.execute_reply": "2022-08-18T11:36:19.778177Z"
    },
    "id": "r6lJwA_VFX0v",
    "outputId": "9fa00c13-090c-42f8-d881-fb3d1e8a2477",
    "papermill": {
     "duration": 61.136617,
     "end_time": "2022-08-18T11:36:19.782842",
     "exception": false,
     "start_time": "2022-08-18T11:35:18.646225",
     "status": "completed"
    },
    "pycharm": {
     "name": "#%%\n"
    },
    "tags": []
   },
   "outputs": [
    {
     "name": "stdout",
     "output_type": "stream",
     "text": [
      "Episode: 100000\n",
      "21.73 0.0\n",
      "[[5.30275837e-02 5.51533143e-02 1.04059625e-01 5.49307576e-02]\n",
      " [4.67373232e-02 3.14566715e-02 4.09543270e-02 5.56550216e-02]\n",
      " [4.79558628e-02 7.56489488e-02 4.35598619e-02 4.79610740e-02]\n",
      " [5.25942579e-02 1.65502396e-02 3.61400780e-03 5.12265364e-02]\n",
      " [1.76137806e-01 6.33375497e-02 2.90541563e-02 8.50380903e-03]\n",
      " [0.00000000e+00 0.00000000e+00 0.00000000e+00 0.00000000e+00]\n",
      " [4.11601856e-02 9.89641732e-03 4.81614067e-03 4.28259370e-05]\n",
      " [0.00000000e+00 0.00000000e+00 0.00000000e+00 0.00000000e+00]\n",
      " [3.93393793e-02 3.05311867e-02 2.01252009e-02 2.52998530e-01]\n",
      " [1.82366599e-02 3.85692366e-01 3.93998739e-02 2.31683596e-01]\n",
      " [1.62414697e-01 2.00000404e-01 4.56866874e-02 2.19267989e-02]\n",
      " [0.00000000e+00 0.00000000e+00 0.00000000e+00 0.00000000e+00]\n",
      " [0.00000000e+00 0.00000000e+00 0.00000000e+00 0.00000000e+00]\n",
      " [2.19920636e-01 8.08887423e-02 4.39904713e-01 1.93267375e-01]\n",
      " [4.55148622e-01 7.59445236e-01 4.31351503e-01 5.06446052e-01]\n",
      " [0.00000000e+00 0.00000000e+00 0.00000000e+00 0.00000000e+00]]\n"
     ]
    }
   ],
   "source": [
    "env_name = 'FrozenLake-v1'\n",
    "env = get_env(env_name)\n",
    "q_table=q_table_train(env,alpha = alpha,gamma = gamma,epsilon = epsilon)\n",
    "frames, AVG_timesteps, AVG_penalities= model_evaluate(env, q_table)\n",
    "print(AVG_timesteps, AVG_penalities)\n",
    "print(q_table)"
   ]
  },
  {
   "cell_type": "markdown",
   "id": "ff43b4ff",
   "metadata": {
    "id": "bssq71Xm6OaM",
    "papermill": {
     "duration": 0.016032,
     "end_time": "2022-08-18T11:36:19.816611",
     "exception": false,
     "start_time": "2022-08-18T11:36:19.800579",
     "status": "completed"
    },
    "pycharm": {
     "name": "#%% md\n"
    },
    "tags": []
   },
   "source": [
    "## Train model function"
   ]
  },
  {
   "cell_type": "code",
   "execution_count": 13,
   "id": "5649a69a",
   "metadata": {
    "execution": {
     "iopub.execute_input": "2022-08-18T11:36:19.851548Z",
     "iopub.status.busy": "2022-08-18T11:36:19.850730Z",
     "iopub.status.idle": "2022-08-18T11:36:19.857531Z",
     "shell.execute_reply": "2022-08-18T11:36:19.856665Z"
    },
    "id": "o_AD5Ls4s0Y1",
    "papermill": {
     "duration": 0.026699,
     "end_time": "2022-08-18T11:36:19.859570",
     "exception": false,
     "start_time": "2022-08-18T11:36:19.832871",
     "status": "completed"
    },
    "pycharm": {
     "name": "#%%\n"
    },
    "tags": []
   },
   "outputs": [],
   "source": [
    "def train_model(env_name=\"Taxi-v3\", alpha_para = 0.1, gamma_para = 0.6, epsilon_para = 0.1,decay_over=False, decay_factor=.1):\n",
    "  \"\"\" the function work to train the model using the parameters plus gaving an option to apply the decay over episodes with a decay factor\n",
    "\n",
    "  Input: \n",
    "    env_name (String): the game name\n",
    "    alpha_para (float), gamma_para (float), epsilon_para (float)\n",
    "\n",
    "    decay_over (boolean) -> to apply the decay technique or not\n",
    "    decay_factor (float): due to the decay equation we need the decay_factor, the Equation (parameter*(1-parameter*decay_factor) )\n",
    "    \n",
    "  Output:\n",
    "    frames (list): list of frames\n",
    "    AVG_timesteps (float)-> the average time steps\n",
    "    AVG_penalities (float)-> the average penalites\n",
    "    \n",
    "  \"\"\"\n",
    "  env = get_env(env_name)\n",
    "  # frames= frame_builder(env)   \n",
    "  q_table=q_table_train(env,alpha = alpha_para,gamma = gamma_para,epsilon = epsilon_para,decay_over=decay_over,decay_factor=decay_factor)\n",
    "  frames, AVG_timesteps, AVG_penalities = model_evaluate(env, q_table)\n",
    "    \n",
    "  return frames, AVG_timesteps, AVG_penalities"
   ]
  },
  {
   "cell_type": "markdown",
   "id": "7b1f5af3",
   "metadata": {
    "id": "AiLQLN08HNzo",
    "papermill": {
     "duration": 0.016034,
     "end_time": "2022-08-18T11:36:19.891888",
     "exception": false,
     "start_time": "2022-08-18T11:36:19.875854",
     "status": "completed"
    },
    "pycharm": {
     "name": "#%% md\n"
    },
    "tags": []
   },
   "source": [
    "## 2) Tune alpha, gamma, and/or epsilon using a decay over episodes"
   ]
  },
  {
   "cell_type": "code",
   "execution_count": 14,
   "id": "b94cb447",
   "metadata": {
    "execution": {
     "iopub.execute_input": "2022-08-18T11:36:19.927323Z",
     "iopub.status.busy": "2022-08-18T11:36:19.926259Z",
     "iopub.status.idle": "2022-08-18T11:38:51.538913Z",
     "shell.execute_reply": "2022-08-18T11:38:51.537374Z"
    },
    "id": "ySujXCxcu695",
    "outputId": "c58ff117-ed44-464b-fe61-c86d0c6f7aab",
    "papermill": {
     "duration": 151.633143,
     "end_time": "2022-08-18T11:38:51.541850",
     "exception": false,
     "start_time": "2022-08-18T11:36:19.908707",
     "status": "completed"
    },
    "pycharm": {
     "name": "#%%\n"
    },
    "tags": []
   },
   "outputs": [
    {
     "name": "stdout",
     "output_type": "stream",
     "text": [
      "Episode: 100000\n",
      "Average timesteps per episode: 25.71\n",
      "Average penalties per episode: 0.0\n"
     ]
    }
   ],
   "source": [
    "env_name = 'Taxi-v3'\n",
    "frames, AVG_timesteps, AVG_penalities = train_model(env_name, alpha_para = 0.1, gamma_para = 0.6, epsilon_para = 0.9,decay_over=True,decay_factor=.1)\n",
    "print(f\"Average timesteps per episode: {AVG_timesteps}\")\n",
    "print(f\"Average penalties per episode: {AVG_penalities}\")"
   ]
  },
  {
   "cell_type": "code",
   "execution_count": 15,
   "id": "a3cf64cc",
   "metadata": {
    "execution": {
     "iopub.execute_input": "2022-08-18T11:38:51.576524Z",
     "iopub.status.busy": "2022-08-18T11:38:51.576101Z",
     "iopub.status.idle": "2022-08-18T11:38:52.083071Z",
     "shell.execute_reply": "2022-08-18T11:38:52.081778Z"
    },
    "id": "BiH54qkTPs1v",
    "outputId": "c7f1e43c-7f9d-4439-de11-6afac5cc8932",
    "papermill": {
     "duration": 0.527079,
     "end_time": "2022-08-18T11:38:52.085852",
     "exception": false,
     "start_time": "2022-08-18T11:38:51.558773",
     "status": "completed"
    },
    "pycharm": {
     "name": "#%%\n"
    },
    "tags": []
   },
   "outputs": [
    {
     "name": "stdout",
     "output_type": "stream",
     "text": [
      "+---------+\n",
      "|\u001b[43mR\u001b[0m: | : :G|\n",
      "| : | : : |\n",
      "| : : : : |\n",
      "| | : | : |\n",
      "|\u001b[35mY\u001b[0m| : |\u001b[34;1mB\u001b[0m: |\n",
      "+---------+\n",
      "  (West)\n",
      "\n",
      "Timestep: 1\n",
      "State: 14\n",
      "Action: 3\n",
      "Reward: -1\n",
      "+---------+\n",
      "|\u001b[43mR\u001b[0m: | : :G|\n",
      "| : | : : |\n",
      "| : : : : |\n",
      "| | : | : |\n",
      "|\u001b[35mY\u001b[0m| : |\u001b[34;1mB\u001b[0m: |\n",
      "+---------+\n",
      "  (West)\n",
      "\n",
      "Timestep: 2\n",
      "State: 14\n",
      "Action: 3\n",
      "Reward: -1\n",
      "+---------+\n",
      "|\u001b[43mR\u001b[0m: | : :G|\n",
      "| : | : : |\n",
      "| : : : : |\n",
      "| | : | : |\n",
      "|\u001b[35mY\u001b[0m| : |\u001b[34;1mB\u001b[0m: |\n",
      "+---------+\n",
      "  (West)\n",
      "\n",
      "Timestep: 3\n",
      "State: 14\n",
      "Action: 3\n",
      "Reward: -1\n",
      "+---------+\n",
      "|\u001b[43mR\u001b[0m: | : :G|\n",
      "| : | : : |\n",
      "| : : : : |\n",
      "| | : | : |\n",
      "|\u001b[35mY\u001b[0m| : |\u001b[34;1mB\u001b[0m: |\n",
      "+---------+\n",
      "  (West)\n",
      "\n",
      "Timestep: 4\n",
      "State: 14\n",
      "Action: 3\n",
      "Reward: -1\n",
      "+---------+\n",
      "|\u001b[43mR\u001b[0m: | : :G|\n",
      "| : | : : |\n",
      "| : : : : |\n",
      "| | : | : |\n",
      "|\u001b[35mY\u001b[0m| : |\u001b[34;1mB\u001b[0m: |\n",
      "+---------+\n",
      "  (West)\n",
      "\n",
      "Timestep: 5\n",
      "State: 14\n",
      "Action: 3\n",
      "Reward: -1\n"
     ]
    }
   ],
   "source": [
    "print_frames(frames[-5:])"
   ]
  },
  {
   "cell_type": "code",
   "execution_count": 16,
   "id": "ea0d5ce4",
   "metadata": {
    "execution": {
     "iopub.execute_input": "2022-08-18T11:38:52.121437Z",
     "iopub.status.busy": "2022-08-18T11:38:52.121053Z",
     "iopub.status.idle": "2022-08-18T11:39:25.899490Z",
     "shell.execute_reply": "2022-08-18T11:39:25.898226Z"
    },
    "id": "Q0MIZEGR0AIS",
    "outputId": "954459d4-7ab6-4b15-eac1-b5170e9fb8f3",
    "papermill": {
     "duration": 33.799375,
     "end_time": "2022-08-18T11:39:25.901980",
     "exception": false,
     "start_time": "2022-08-18T11:38:52.102605",
     "status": "completed"
    },
    "pycharm": {
     "name": "#%%\n"
    },
    "tags": []
   },
   "outputs": [
    {
     "name": "stdout",
     "output_type": "stream",
     "text": [
      "Episode: 100000\n",
      "Average timesteps per episode: 5.85\n",
      "Average penalties per episode: 0.0\n"
     ]
    }
   ],
   "source": [
    "env_name = 'FrozenLake-v1'\n",
    "frames,AVG_timesteps, AVG_penalities = train_model(env_name, alpha_para = 0.1, gamma_para = 0.6, epsilon_para = 0.9,decay_over=True,decay_factor=.1)\n",
    "print(f\"Average timesteps per episode: {AVG_timesteps}\")\n",
    "print(f\"Average penalties per episode: {AVG_penalities}\")"
   ]
  },
  {
   "cell_type": "code",
   "execution_count": 17,
   "id": "982e4282",
   "metadata": {
    "execution": {
     "iopub.execute_input": "2022-08-18T11:39:25.938406Z",
     "iopub.status.busy": "2022-08-18T11:39:25.937090Z",
     "iopub.status.idle": "2022-08-18T11:39:26.445058Z",
     "shell.execute_reply": "2022-08-18T11:39:26.443770Z"
    },
    "id": "yrrtoDVX1lbD",
    "outputId": "92f45317-e5c9-41b6-e0ec-be236b8b99b5",
    "papermill": {
     "duration": 0.528958,
     "end_time": "2022-08-18T11:39:26.447925",
     "exception": false,
     "start_time": "2022-08-18T11:39:25.918967",
     "status": "completed"
    },
    "pycharm": {
     "name": "#%%\n"
    },
    "tags": []
   },
   "outputs": [
    {
     "name": "stdout",
     "output_type": "stream",
     "text": [
      "  (Down)\n",
      "SFFF\n",
      "FHFH\n",
      "FFFH\n",
      "H\u001b[41mF\u001b[0mFG\n",
      "\n",
      "Timestep: 1\n",
      "State: 13\n",
      "Action: 1\n",
      "Reward: 0.0\n",
      "  (Down)\n",
      "SFFF\n",
      "FHFH\n",
      "FFFH\n",
      "\u001b[41mH\u001b[0mFFG\n",
      "\n",
      "Timestep: 2\n",
      "State: 12\n",
      "Action: 1\n",
      "Reward: 0.0\n",
      "  (Down)\n",
      "S\u001b[41mF\u001b[0mFF\n",
      "FHFH\n",
      "FFFH\n",
      "HFFG\n",
      "\n",
      "Timestep: 3\n",
      "State: 1\n",
      "Action: 1\n",
      "Reward: 0.0\n",
      "  (Right)\n",
      "S\u001b[41mF\u001b[0mFF\n",
      "FHFH\n",
      "FFFH\n",
      "HFFG\n",
      "\n",
      "Timestep: 4\n",
      "State: 1\n",
      "Action: 2\n",
      "Reward: 0.0\n",
      "  (Right)\n",
      "SFFF\n",
      "F\u001b[41mH\u001b[0mFH\n",
      "FFFH\n",
      "HFFG\n",
      "\n",
      "Timestep: 5\n",
      "State: 5\n",
      "Action: 2\n",
      "Reward: 0.0\n"
     ]
    }
   ],
   "source": [
    "print_frames(frames[-5:])"
   ]
  },
  {
   "cell_type": "markdown",
   "id": "0dc2dd91",
   "metadata": {
    "id": "xxrTLdLkHhIg",
    "papermill": {
     "duration": 0.017143,
     "end_time": "2022-08-18T11:39:26.482771",
     "exception": false,
     "start_time": "2022-08-18T11:39:26.465628",
     "status": "completed"
    },
    "pycharm": {
     "name": "#%% md\n"
    },
    "tags": []
   },
   "source": [
    "## 3) Implement a grid search to discover the best hyperparameters"
   ]
  },
  {
   "cell_type": "code",
   "execution_count": 18,
   "id": "ab08f14c",
   "metadata": {
    "execution": {
     "iopub.execute_input": "2022-08-18T11:39:26.518712Z",
     "iopub.status.busy": "2022-08-18T11:39:26.517906Z",
     "iopub.status.idle": "2022-08-18T11:39:26.527137Z",
     "shell.execute_reply": "2022-08-18T11:39:26.525972Z"
    },
    "id": "5SGAQJC9tyIo",
    "papermill": {
     "duration": 0.029846,
     "end_time": "2022-08-18T11:39:26.529619",
     "exception": false,
     "start_time": "2022-08-18T11:39:26.499773",
     "status": "completed"
    },
    "pycharm": {
     "name": "#%%\n"
    },
    "tags": []
   },
   "outputs": [],
   "source": [
    "def grid_search(env_name=\"Taxi-v3\",parameters={'alpha':[0.9],'gamma':[0.9],'epsilon':[.9]},decay_over=False,decay_factor=.1):\n",
    "  \"\"\" \n",
    "  This function try to find the best compination of parmteres with respect to the lowest penalty with minimum timesteps\n",
    "\n",
    "  Input: \n",
    "      env_name (string) -> Game name\n",
    "      parameters (dict) -> Dictionary of lists for each parameter; Example:{'alpha':[0.9],'gamma':[0.9],'epsilon':[.9]}\n",
    "\n",
    "      decay_over (boolean) -> to apply the decay technique or not\n",
    "      decay_factor (float) -> due to the decay equation we need the decay_factor, the Equation (parameter*(1-parameter*decay_factor) )\n",
    "\n",
    "  Output:\n",
    "      best_params (dict) -> with the best paramters\n",
    "      best_AVGtime (float) -> the best avarage time\n",
    "      best_AVGpenalties (float) -> the least penalty value\n",
    "      best_frame (list)\n",
    "\n",
    "  \"\"\"\n",
    "  best_AVGtime , best_AVGpenalties= 999999,999999\n",
    "  best_frame =None\n",
    "  best_params={}\n",
    "\n",
    "  for alpha in parameters['alpha']:\n",
    "        for gamma in parameters['gamma']:\n",
    "            for epsilon in parameters['epsilon']:\n",
    "              frames, AVG_timesteps, AVG_penalities = train_model(env_name, alpha_para = alpha, gamma_para = gamma, epsilon_para = epsilon,decay_over=decay_over,decay_factor=decay_factor)\n",
    "              if AVG_penalities <= best_AVGpenalties:\n",
    "                    if AVG_timesteps <= best_AVGtime :\n",
    "                      best_AVGtime ,best_AVGpenalties = AVG_timesteps, AVG_penalities\n",
    "                      best_params = {'alpha':alpha,'gamma':gamma,'epsilon':epsilon}\n",
    "                      best_frame = frames\n",
    "\n",
    "  return best_params, best_AVGtime ,best_AVGpenalties, best_frame"
   ]
  },
  {
   "cell_type": "code",
   "execution_count": 19,
   "id": "2cd399b3",
   "metadata": {
    "execution": {
     "iopub.execute_input": "2022-08-18T11:39:26.566136Z",
     "iopub.status.busy": "2022-08-18T11:39:26.565039Z",
     "iopub.status.idle": "2022-08-18T11:56:27.984128Z",
     "shell.execute_reply": "2022-08-18T11:56:27.983089Z"
    },
    "id": "50TtHj_FXB95",
    "outputId": "5cf4edfa-dd80-4944-a7f6-0c7e4f0f8f71",
    "papermill": {
     "duration": 1021.439723,
     "end_time": "2022-08-18T11:56:27.986697",
     "exception": false,
     "start_time": "2022-08-18T11:39:26.546974",
     "status": "completed"
    },
    "pycharm": {
     "name": "#%%\n"
    },
    "tags": []
   },
   "outputs": [
    {
     "name": "stdout",
     "output_type": "stream",
     "text": [
      "Episode: 100000\n"
     ]
    }
   ],
   "source": [
    "env_name = \"FrozenLake-v1\"\n",
    "params = {'alpha':[0.9,0.6,0.3],'gamma':[0.9,0.6,0.3],'epsilon':[0.9,0.6,0.3]} #[0.9,0.6,0.3]\n",
    "best_params, best_AVGtime ,best_AVGpenalties, best_frame = grid_search(env_name=env_name,parameters=params,decay_over=False,decay_factor=.1)\n"
   ]
  },
  {
   "cell_type": "code",
   "execution_count": 20,
   "id": "60fd4271",
   "metadata": {
    "execution": {
     "iopub.execute_input": "2022-08-18T11:56:28.022484Z",
     "iopub.status.busy": "2022-08-18T11:56:28.022079Z",
     "iopub.status.idle": "2022-08-18T11:56:28.028358Z",
     "shell.execute_reply": "2022-08-18T11:56:28.027220Z"
    },
    "id": "8bWbtscCRRVx",
    "outputId": "47bca68f-cf5c-4f01-8bd5-ccdc38c90c0f",
    "papermill": {
     "duration": 0.026842,
     "end_time": "2022-08-18T11:56:28.030659",
     "exception": false,
     "start_time": "2022-08-18T11:56:28.003817",
     "status": "completed"
    },
    "pycharm": {
     "name": "#%%\n"
    },
    "tags": []
   },
   "outputs": [
    {
     "name": "stdout",
     "output_type": "stream",
     "text": [
      "Best_parameters: {'alpha': 0.3, 'gamma': 0.3, 'epsilon': 0.6}\n",
      "Average timesteps per episode: 4.87\n",
      "Average penalties per episode: 0.0\n"
     ]
    }
   ],
   "source": [
    "print('Best_parameters:', best_params)\n",
    "print('Average timesteps per episode:', best_AVGtime)\n",
    "print('Average penalties per episode:', best_AVGpenalties)"
   ]
  },
  {
   "cell_type": "code",
   "execution_count": 21,
   "id": "0b4f8ee3",
   "metadata": {
    "execution": {
     "iopub.execute_input": "2022-08-18T11:56:28.066670Z",
     "iopub.status.busy": "2022-08-18T11:56:28.066236Z",
     "iopub.status.idle": "2022-08-18T11:56:28.571887Z",
     "shell.execute_reply": "2022-08-18T11:56:28.571061Z"
    },
    "id": "IwXlE2PcZ6Yg",
    "outputId": "911ec2da-d6e1-4bbf-ad53-076395ee02b0",
    "papermill": {
     "duration": 0.526727,
     "end_time": "2022-08-18T11:56:28.574602",
     "exception": false,
     "start_time": "2022-08-18T11:56:28.047875",
     "status": "completed"
    },
    "pycharm": {
     "name": "#%%\n"
    },
    "tags": []
   },
   "outputs": [
    {
     "name": "stdout",
     "output_type": "stream",
     "text": [
      "  (Right)\n",
      "SF\u001b[41mF\u001b[0mF\n",
      "FHFH\n",
      "FFFH\n",
      "HFFG\n",
      "\n",
      "Timestep: 1\n",
      "State: 2\n",
      "Action: 2\n",
      "Reward: 0.0\n",
      "  (Left)\n",
      "S\u001b[41mF\u001b[0mFF\n",
      "FHFH\n",
      "FFFH\n",
      "HFFG\n",
      "\n",
      "Timestep: 2\n",
      "State: 1\n",
      "Action: 0\n",
      "Reward: 0.0\n",
      "  (Right)\n",
      "S\u001b[41mF\u001b[0mFF\n",
      "FHFH\n",
      "FFFH\n",
      "HFFG\n",
      "\n",
      "Timestep: 3\n",
      "State: 1\n",
      "Action: 2\n",
      "Reward: 0.0\n",
      "  (Right)\n",
      "S\u001b[41mF\u001b[0mFF\n",
      "FHFH\n",
      "FFFH\n",
      "HFFG\n",
      "\n",
      "Timestep: 4\n",
      "State: 1\n",
      "Action: 2\n",
      "Reward: 0.0\n",
      "  (Right)\n",
      "SFFF\n",
      "F\u001b[41mH\u001b[0mFH\n",
      "FFFH\n",
      "HFFG\n",
      "\n",
      "Timestep: 5\n",
      "State: 5\n",
      "Action: 2\n",
      "Reward: 0.0\n"
     ]
    }
   ],
   "source": [
    "print_frames(best_frame[-5:])"
   ]
  },
  {
   "cell_type": "code",
   "execution_count": 22,
   "id": "671c0f0b",
   "metadata": {
    "execution": {
     "iopub.execute_input": "2022-08-18T11:56:28.612013Z",
     "iopub.status.busy": "2022-08-18T11:56:28.611623Z",
     "iopub.status.idle": "2022-08-18T13:33:48.047937Z",
     "shell.execute_reply": "2022-08-18T13:33:48.046754Z"
    },
    "id": "gFkgnomLppPT",
    "outputId": "3c3d3dca-603e-4928-ccd2-194cde09bc70",
    "papermill": {
     "duration": 5839.458651,
     "end_time": "2022-08-18T13:33:48.050893",
     "exception": false,
     "start_time": "2022-08-18T11:56:28.592242",
     "status": "completed"
    },
    "pycharm": {
     "name": "#%%\n"
    },
    "tags": []
   },
   "outputs": [
    {
     "name": "stdout",
     "output_type": "stream",
     "text": [
      "Episode: 100000\n"
     ]
    }
   ],
   "source": [
    "env_name = \"Taxi-v3\"\n",
    "params = {'alpha':[0.9,0.6,0.3],'gamma':[0.9,0.6,0.3],'epsilon':[0.9,0.6,0.3]}\n",
    "best_params, best_AVGtime ,best_AVGpenalties, best_frame = grid_search(env_name=env_name,parameters=params,decay_over=False,decay_factor=.1)"
   ]
  },
  {
   "cell_type": "code",
   "execution_count": 23,
   "id": "200b3f53",
   "metadata": {
    "execution": {
     "iopub.execute_input": "2022-08-18T13:33:48.160589Z",
     "iopub.status.busy": "2022-08-18T13:33:48.159559Z",
     "iopub.status.idle": "2022-08-18T13:33:48.167208Z",
     "shell.execute_reply": "2022-08-18T13:33:48.165759Z"
    },
    "id": "o-l-gZnURkZi",
    "outputId": "f01121b1-3998-42a6-a1ca-3c6473d703e4",
    "papermill": {
     "duration": 0.100566,
     "end_time": "2022-08-18T13:33:48.169906",
     "exception": false,
     "start_time": "2022-08-18T13:33:48.069340",
     "status": "completed"
    },
    "pycharm": {
     "name": "#%%\n"
    },
    "tags": []
   },
   "outputs": [
    {
     "name": "stdout",
     "output_type": "stream",
     "text": [
      "Best_parameters: {'alpha': 0.9, 'gamma': 0.3, 'epsilon': 0.9}\n",
      "Average timesteps per episode: 12.36\n",
      "Average penalties per episode: 0.0\n"
     ]
    }
   ],
   "source": [
    "print('Best_parameters:', best_params)\n",
    "print('Average timesteps per episode:', best_AVGtime)\n",
    "print('Average penalties per episode:', best_AVGpenalties)"
   ]
  },
  {
   "cell_type": "code",
   "execution_count": 24,
   "id": "4395a057",
   "metadata": {
    "execution": {
     "iopub.execute_input": "2022-08-18T13:33:48.207876Z",
     "iopub.status.busy": "2022-08-18T13:33:48.207474Z",
     "iopub.status.idle": "2022-08-18T13:33:48.713530Z",
     "shell.execute_reply": "2022-08-18T13:33:48.712276Z"
    },
    "id": "xlffGHntRoGd",
    "outputId": "54fb79fc-e25b-4542-e06f-d7bdddeb62d1",
    "papermill": {
     "duration": 0.528298,
     "end_time": "2022-08-18T13:33:48.716358",
     "exception": false,
     "start_time": "2022-08-18T13:33:48.188060",
     "status": "completed"
    },
    "pycharm": {
     "name": "#%%\n"
    },
    "tags": []
   },
   "outputs": [
    {
     "name": "stdout",
     "output_type": "stream",
     "text": [
      "+---------+\n",
      "|\u001b[35mR\u001b[0m: | : :G|\n",
      "| : | : : |\n",
      "| :\u001b[42m_\u001b[0m: : : |\n",
      "| | : | : |\n",
      "|Y| : |B: |\n",
      "+---------+\n",
      "  (West)\n",
      "\n",
      "Timestep: 1\n",
      "State: 236\n",
      "Action: 3\n",
      "Reward: -1\n",
      "+---------+\n",
      "|\u001b[35mR\u001b[0m: | : :G|\n",
      "| :\u001b[42m_\u001b[0m| : : |\n",
      "| : : : : |\n",
      "| | : | : |\n",
      "|Y| : |B: |\n",
      "+---------+\n",
      "  (North)\n",
      "\n",
      "Timestep: 2\n",
      "State: 136\n",
      "Action: 1\n",
      "Reward: -1\n",
      "+---------+\n",
      "|\u001b[35mR\u001b[0m:\u001b[42m_\u001b[0m| : :G|\n",
      "| : | : : |\n",
      "| : : : : |\n",
      "| | : | : |\n",
      "|Y| : |B: |\n",
      "+---------+\n",
      "  (North)\n",
      "\n",
      "Timestep: 3\n",
      "State: 36\n",
      "Action: 1\n",
      "Reward: -1\n",
      "+---------+\n",
      "|\u001b[35m\u001b[42mR\u001b[0m\u001b[0m: | : :G|\n",
      "| : | : : |\n",
      "| : : : : |\n",
      "| | : | : |\n",
      "|Y| : |B: |\n",
      "+---------+\n",
      "  (West)\n",
      "\n",
      "Timestep: 4\n",
      "State: 16\n",
      "Action: 3\n",
      "Reward: -1\n",
      "+---------+\n",
      "|\u001b[35m\u001b[34;1m\u001b[43mR\u001b[0m\u001b[0m\u001b[0m: | : :G|\n",
      "| : | : : |\n",
      "| : : : : |\n",
      "| | : | : |\n",
      "|Y| : |B: |\n",
      "+---------+\n",
      "  (Dropoff)\n",
      "\n",
      "Timestep: 5\n",
      "State: 0\n",
      "Action: 5\n",
      "Reward: 20\n"
     ]
    }
   ],
   "source": [
    "print_frames(best_frame[-5:])"
   ]
  }
 ],
 "metadata": {
  "kernelspec": {
   "display_name": "Python 3",
   "language": "python",
   "name": "python3"
  },
  "language_info": {
   "codemirror_mode": {
    "name": "ipython",
    "version": 3
   },
   "file_extension": ".py",
   "mimetype": "text/x-python",
   "name": "python",
   "nbconvert_exporter": "python",
   "pygments_lexer": "ipython3",
   "version": "3.7.12"
  },
  "papermill": {
   "default_parameters": {},
   "duration": 7250.033976,
   "end_time": "2022-08-18T13:33:49.473246",
   "environment_variables": {},
   "exception": null,
   "input_path": "__notebook__.ipynb",
   "output_path": "__notebook__.ipynb",
   "parameters": {},
   "start_time": "2022-08-18T11:32:59.439270",
   "version": "2.3.4"
  }
 },
 "nbformat": 4,
 "nbformat_minor": 5
}
