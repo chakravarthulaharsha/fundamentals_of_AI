{
  "nbformat": 4,
  "nbformat_minor": 0,
  "metadata": {
    "colab": {
      "provenance": [],
      "collapsed_sections": []
    },
    "kernelspec": {
      "name": "python3",
      "display_name": "Python 3"
    },
    "language_info": {
      "name": "python"
    }
  },
  "cells": [
    {
      "cell_type": "markdown",
      "source": [
        "This is a basic tool for graph (or network, we shall use the terms interchangeably) creation and traversal.\n",
        "\n",
        "This tutorial MUST be read in conjunction with the official networkx documentation which is at: \n",
        "https://networkx.org/documentation/stable/auto_examples/basic/index.html\n"
      ],
      "metadata": {
        "id": "9zcLwWLtIgLB"
      }
    },
    {
      "cell_type": "code",
      "source": [
        "import networkx as nx\n",
        "seed=1000           # seed the graph for reproducibility, you should be doing this  \n",
        "G= nx.gnp_random_graph (10, .3, seed=seed )       # here we create a random binomial graph with 20 nodes and an average (expected) connectivity of 10*.3= 3.\n",
        "print ( G.nodes() )"
      ],
      "metadata": {
        "id": "W1QiQzRXC4xk",
        "colab": {
          "base_uri": "https://localhost:8080/"
        },
        "outputId": "eb73717f-8547-4478-e3dc-203c45b612bf"
      },
      "execution_count": 1,
      "outputs": [
        {
          "output_type": "stream",
          "name": "stdout",
          "text": [
            "[0, 1, 2, 3, 4, 5, 6, 7, 8, 9]\n"
          ]
        }
      ]
    },
    {
      "cell_type": "code",
      "source": [],
      "metadata": {
        "id": "oSKBMGuvTCBD",
        "outputId": "fe1c4d38-a507-44fb-cbe0-329ff86bb9f7",
        "colab": {
          "base_uri": "https://localhost:8080/"
        }
      },
      "execution_count": 2,
      "outputs": [
        {
          "output_type": "execute_result",
          "data": {
            "text/plain": [
              "<networkx.classes.graph.Graph at 0x7faba43fb1d0>"
            ]
          },
          "metadata": {},
          "execution_count": 2
        }
      ]
    },
    {
      "cell_type": "code",
      "source": [
        "print(G.edges())"
      ],
      "metadata": {
        "id": "b5FVMIldD6Wk",
        "colab": {
          "base_uri": "https://localhost:8080/"
        },
        "outputId": "8cd368bd-fec5-4f7e-c39b-9873116a96df"
      },
      "execution_count": 3,
      "outputs": [
        {
          "output_type": "stream",
          "name": "stdout",
          "text": [
            "[(0, 3), (0, 8), (1, 4), (1, 6), (1, 8), (2, 8), (3, 8), (4, 5), (4, 6), (4, 7), (4, 9), (5, 7), (6, 7), (6, 8), (7, 9)]\n"
          ]
        }
      ]
    },
    {
      "cell_type": "code",
      "source": [
        "import random\n",
        "for (u, v) in G.edges():\n",
        "    eweights=G.edges[u,v]['weight'] = random.randint(1,20)\n",
        "    print(u,v,eweights)"
      ],
      "metadata": {
        "id": "lI942TiDKRgX",
        "colab": {
          "base_uri": "https://localhost:8080/"
        },
        "outputId": "d4012490-cd97-402c-dc7d-23340e8beea9"
      },
      "execution_count": 4,
      "outputs": [
        {
          "output_type": "stream",
          "name": "stdout",
          "text": [
            "0 3 7\n",
            "0 8 3\n",
            "1 4 18\n",
            "1 6 19\n",
            "1 8 7\n",
            "2 8 15\n",
            "3 8 12\n",
            "4 5 4\n",
            "4 6 12\n",
            "4 7 1\n",
            "4 9 18\n",
            "5 7 13\n",
            "6 7 6\n",
            "6 8 17\n",
            "7 9 14\n"
          ]
        }
      ]
    },
    {
      "cell_type": "code",
      "source": [
        "import matplotlib.pyplot as plt\n",
        "\n",
        "# some properties\n",
        "print(\"node degree and node clustering\")\n",
        "for v in nx.nodes(G):\n",
        "    print(f\"{v} {nx.degree(G, v)} {nx.clustering(G, v)}\")\n",
        "\n",
        "print()\n",
        "print(\"the adjacency list\")\n",
        "for line in nx.generate_adjlist(G):\n",
        "    print(line)\n",
        "\n",
        "links = [(u, v) for (u, v, d) in G.edges(data=True)]\n",
        "pos = nx.nx_pydot.graphviz_layout(G) \n",
        "nx.draw_networkx_nodes(G, pos, node_size=1200, node_color='lightblue', linewidths=0.25) # draw nodes\n",
        "nx.draw_networkx_edges(G, pos, edgelist=links, width=4)                                 # draw edges\n",
        "\n",
        "# node labels\n",
        "nx.draw_networkx_labels(G, pos, font_size=20, font_family=\"sans-serif\")\n",
        "# edge weight labels\n",
        "\n",
        "edge_labels = nx.get_edge_attributes(G, \"weight\")\n",
        "print(edge_labels)\n",
        "nx.draw_networkx_edge_labels(G, pos, edge_labels)\n",
        "\n",
        "plt.show()\n"
      ],
      "metadata": {
        "colab": {
          "base_uri": "https://localhost:8080/",
          "height": 684
        },
        "id": "b6nWI_rOKMeo",
        "outputId": "d8bc9bab-4f97-425e-bd5f-64961d591d22"
      },
      "execution_count": 5,
      "outputs": [
        {
          "output_type": "stream",
          "name": "stdout",
          "text": [
            "node degree and node clustering\n",
            "0 2 1.0\n",
            "1 3 0.6666666666666666\n",
            "2 1 0\n",
            "3 2 1.0\n",
            "4 5 0.4\n",
            "5 2 1.0\n",
            "6 4 0.5\n",
            "7 4 0.5\n",
            "8 5 0.2\n",
            "9 2 1.0\n",
            "\n",
            "the adjacency list\n",
            "0 3 8\n",
            "1 4 6 8\n",
            "2 8\n",
            "3 8\n",
            "4 5 6 7 9\n",
            "5 7\n",
            "6 7 8\n",
            "7 9\n",
            "8\n",
            "9\n",
            "{(0, 3): 7, (0, 8): 3, (1, 4): 18, (1, 6): 19, (1, 8): 7, (2, 8): 15, (3, 8): 12, (4, 5): 4, (4, 6): 12, (4, 7): 1, (4, 9): 18, (5, 7): 13, (6, 7): 6, (6, 8): 17, (7, 9): 14}\n"
          ]
        },
        {
          "output_type": "display_data",
          "data": {
            "text/plain": [
              "<Figure size 432x288 with 1 Axes>"
            ],
            "image/png": "[encoded data removed]"
          },
          "metadata": {}
        }
      ]
    },
    {
      "cell_type": "code",
      "source": [
        "nx.shortest_path(G,2,4,weight='weight',method='dijkstra')     # find the shortest path between two nodes using Dijkstra's algorithm; in this case between two nodes                                                      "
      ],
      "metadata": {
        "colab": {
          "base_uri": "https://localhost:8080/"
        },
        "id": "bkZViO2BV-6j",
        "outputId": "0d8986a0-462b-479f-9cb2-5aca57093170"
      },
      "execution_count": 6,
      "outputs": [
        {
          "output_type": "execute_result",
          "data": {
            "text/plain": [
              "[2, 8, 6, 7, 4]"
            ]
          },
          "metadata": {},
          "execution_count": 6
        }
      ]
    },
    {
      "cell_type": "code",
      "source": [],
      "metadata": {
        "id": "8t0d_D11e6p6"
      },
      "execution_count": null,
      "outputs": []
    },
    {
      "cell_type": "markdown",
      "source": [
        "Q1) Find the length of the shortest path using Dijisktra's algorithm."
      ],
      "metadata": {
        "id": "6Pfwe74kEAJP"
      }
    },
    {
      "cell_type": "code",
      "source": [
        "nx.dijkstra_path_length(G, source=2, target=4, weight='weight')"
      ],
      "metadata": {
        "id": "xrhlMMp5e_qJ",
        "outputId": "61f2e021-178d-42f6-9693-0d040be988f3",
        "colab": {
          "base_uri": "https://localhost:8080/"
        }
      },
      "execution_count": 16,
      "outputs": [
        {
          "output_type": "execute_result",
          "data": {
            "text/plain": [
              "39"
            ]
          },
          "metadata": {},
          "execution_count": 16
        }
      ]
    },
    {
      "cell_type": "markdown",
      "source": [
        "Q2) Make use of the A* algorithm to find the shortest path"
      ],
      "metadata": {
        "id": "J1s5mZVB50Qz"
      }
    },
    {
      "cell_type": "code",
      "source": [
        "nx.astar_path(G, source=2, target=4, heuristic=None, weight='weight')"
      ],
      "metadata": {
        "id": "atZ-cqSWhNLK",
        "outputId": "a14e2879-2b20-4911-be72-94eeea8e40dd",
        "colab": {
          "base_uri": "https://localhost:8080/"
        }
      },
      "execution_count": 17,
      "outputs": [
        {
          "output_type": "execute_result",
          "data": {
            "text/plain": [
              "[2, 8, 6, 7, 4]"
            ]
          },
          "metadata": {},
          "execution_count": 17
        }
      ]
    },
    {
      "cell_type": "markdown",
      "source": [],
      "metadata": {
        "id": "zWLDrYqTKL52"
      }
    },
    {
      "cell_type": "markdown",
      "source": [
        "Q3) Find the length of the shortest path using the A* algorithm."
      ],
      "metadata": {
        "id": "h-B5GWzJEaVu"
      }
    },
    {
      "cell_type": "code",
      "source": [
        "nx.astar_path_length(G, source=2, target=4, heuristic=None, weight='weight')"
      ],
      "metadata": {
        "id": "odE3qZIdhfLB",
        "outputId": "5327e089-9c14-4028-895c-d60f6038188d",
        "colab": {
          "base_uri": "https://localhost:8080/"
        }
      },
      "execution_count": 18,
      "outputs": [
        {
          "output_type": "execute_result",
          "data": {
            "text/plain": [
              "39"
            ]
          },
          "metadata": {},
          "execution_count": 18
        }
      ]
    }
  ]
}