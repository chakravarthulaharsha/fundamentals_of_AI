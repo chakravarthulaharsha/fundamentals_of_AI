{
  "nbformat": 4,
  "nbformat_minor": 0,
  "metadata": {
    "colab": {
      "provenance": [],
      "collapsed_sections": []
    },
    "kernelspec": {
      "name": "python3",
      "display_name": "Python 3"
    },
    "language_info": {
      "name": "python"
    }
  },
  "cells": [
    {
      "cell_type": "code",
      "execution_count": null,
      "metadata": {
        "colab": {
          "base_uri": "https://localhost:8080/"
        },
        "id": "C_9DIcf3EHEr",
        "outputId": "85b45745-8211-4b46-9388-2a80f0bbada5"
      },
      "outputs": [
        {
          "output_type": "stream",
          "name": "stdout",
          "text": [
            "[0, 1, 2, 3, 4, 5, 6, 7, 8, 9, 10, 11, 12, 13, 14, 15, 16, 17, 18, 19, 20, 21, 22, 23, 24, 25, 26, 27, 28, 29, 30, 31, 32, 33, 34, 35, 36, 37, 38, 39, 40, 41, 42, 43, 44, 45, 46, 47, 48, 49]\n",
            "48\n"
          ]
        }
      ],
      "source": [
        "import networkx as nx\n",
        "seed=1000           # seed the graph for reproducibility, you should be doing this  \n",
        "G= nx.gnp_random_graph (50, .04 )       # here we create a random binomial graph with 1000 nodes and an average (expected) connectivity of 10*.3= 3.\n",
        "print ( G.nodes())\n",
        "print(G.size())"
      ]
    },
    {
      "cell_type": "markdown",
      "source": [
        "Pick paths from G to be modified by the Simulated Annealing algorithm"
      ],
      "metadata": {
        "id": "jLtCQRCBOS9p"
      }
    },
    {
      "cell_type": "code",
      "source": [
        "for path in nx.all_simple_paths(G, source=0, target=40):\n",
        "  \n",
        "  print(path)"
      ],
      "metadata": {
        "id": "iSb1Nl7nEVQ3"
      },
      "execution_count": null,
      "outputs": []
    },
    {
      "cell_type": "markdown",
      "source": [
        "Define flow and capacity for the test case graph"
      ],
      "metadata": {
        "id": "RWW2ywzROoVo"
      }
    },
    {
      "cell_type": "code",
      "source": [
        "G = nx.Graph()\n",
        "G.add_edges_from([(0, 1, {'flow': 2}), (0, 1,{'capacity': 6}), (0, 2,{'flow': 3}), (0, 2,{'capacity': 3}), (0,3,{'flow': 3}), (0,3,{'capacity': 5}), (1,2, {'flow': 1}), (1,2,{'capacity': 1}), (1,4, {'flow': 1}), (1,4,{'capacity': 3}), (2,4, {'flow': 3}), (2,4,{'capacity': 7}), (2,5, {'flow': 2}), (2,5,{'capacity': 9}), (3,2, {'flow': 1}), (3,2,{'capacity': 1}), (3,5,{'flow': 2}), (3,5,{'capacity': 2}), (5,4, {'flow': 4}), (5,4,{'capacity': 5})])"
      ],
      "metadata": {
        "id": "DRyD9nWHNDlJ"
      },
      "execution_count": null,
      "outputs": []
    },
    {
      "cell_type": "code",
      "source": [
        "for path in nx.all_simple_paths(G, source=0, target=4):\n",
        "  print(path)"
      ],
      "metadata": {
        "colab": {
          "base_uri": "https://localhost:8080/"
        },
        "id": "9ysjBklmKCrt",
        "outputId": "26bbf5b2-a6a1-40d3-f8a1-05edb5411f38"
      },
      "execution_count": null,
      "outputs": [
        {
          "output_type": "stream",
          "name": "stdout",
          "text": [
            "[0, 1, 2, 4]\n",
            "[0, 1, 2, 5, 4]\n",
            "[0, 1, 2, 3, 5, 4]\n",
            "[0, 1, 4]\n",
            "[0, 2, 1, 4]\n",
            "[0, 2, 4]\n",
            "[0, 2, 5, 4]\n",
            "[0, 2, 3, 5, 4]\n",
            "[0, 3, 2, 1, 4]\n",
            "[0, 3, 2, 4]\n",
            "[0, 3, 2, 5, 4]\n",
            "[0, 3, 5, 2, 1, 4]\n",
            "[0, 3, 5, 2, 4]\n",
            "[0, 3, 5, 4]\n"
          ]
        }
      ]
    },
    {
      "cell_type": "code",
      "source": [
        "import matplotlib.pyplot as plt\n",
        "\n",
        "links = [(u, v) for (u, v, d) in G.edges(data=True)]\n",
        "pos = nx.nx_pydot.graphviz_layout(G) \n",
        "nx.draw_networkx_nodes(G, pos, node_size=1200, node_color='lightblue', linewidths=0.25) # draw nodes\n",
        "nx.draw_networkx_edges(G, pos, edgelist=links, width=4)                                 # draw edges\n",
        "\n",
        "# node labels\n",
        "nx.draw_networkx_labels(G, pos, font_size=20, font_family=\"sans-serif\")\n",
        "# edge weight labels\n",
        "edge_labels = nx.get_edge_attributes(G, 'flow')\n",
        "print(edge_labels)\n",
        "nx.draw_networkx_edge_labels(G, pos, edge_labels)\n",
        "\n",
        "plt.show()"
      ],
      "metadata": {
        "colab": {
          "base_uri": "https://localhost:8080/",
          "height": 266
        },
        "id": "BiS0BHUtPByO",
        "outputId": "44d7aa61-a718-40eb-e39d-5a45dc96447b"
      },
      "execution_count": null,
      "outputs": [
        {
          "output_type": "stream",
          "name": "stdout",
          "text": [
            "{(0, 1): 2, (0, 2): 3, (0, 3): 3, (1, 2): 1, (1, 4): 1, (2, 4): 3, (2, 5): 2, (2, 3): 1, (3, 5): 2, (4, 5): 4}\n"
          ]
        },
        {
          "output_type": "display_data",
          "data": {
            "text/plain": [
              "<Figure size 432x288 with 1 Axes>"
            ],
            "image/png": "[encoded data removed]"
          },
          "metadata": {}
        }
      ]
    },
    {
      "cell_type": "markdown",
      "source": [
        "Apply the Edmonds Karp algorithm on the test graph and print out the flow into the sink node t (4)."
      ],
      "metadata": {
        "id": "7cl_afb-PWzP"
      }
    },
    {
      "cell_type": "markdown",
      "source": [],
      "metadata": {
        "id": "5zpNcjwLPiUZ"
      }
    },
    {
      "cell_type": "code",
      "source": [
        "from networkx.algorithms.flow import edmonds_karp\n",
        "R = edmonds_karp(G, 0, 4)\n",
        "flow_value = nx.maximum_flow_value(G, 0, 4)\n",
        "print(flow_value)"
      ],
      "metadata": {
        "colab": {
          "base_uri": "https://localhost:8080/"
        },
        "id": "5ukHAaYIckRa",
        "outputId": "2f7d7d61-77b4-4eb8-d1d3-b141f7e3e9d1"
      },
      "execution_count": null,
      "outputs": [
        {
          "output_type": "stream",
          "name": "stdout",
          "text": [
            "10\n"
          ]
        }
      ]
    }
  ]
}